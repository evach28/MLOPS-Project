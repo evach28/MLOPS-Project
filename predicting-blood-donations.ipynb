{
 "cells": [
  {
   "cell_type": "markdown",
   "metadata": {
    "dc": {
     "key": "3"
    },
    "deletable": false,
    "editable": false,
    "run_control": {
     "frozen": true
    },
    "tags": [
     "context"
    ]
   },
   "source": [
    "## 1. Inspecting transfusion.data file\n",
    "<p><img src=\"https://assets.datacamp.com/production/project_646/img/blood_donation.png\" style=\"float: right;\" alt=\"A pictogram of a blood bag with blood donation written in it\" width=\"200\"></p>\n",
    "<p>Blood transfusion saves lives - from replacing lost blood during major surgery or a serious injury to treating various illnesses and blood disorders. Ensuring that there's enough blood in supply whenever needed is a serious challenge for the health professionals. According to <a href=\"https://www.webmd.com/a-to-z-guides/blood-transfusion-what-to-know#1\">WebMD</a>, \"about 5 million Americans need a blood transfusion every year\".</p>\n",
    "<p>Our dataset is from a mobile blood donation vehicle in Taiwan. The Blood Transfusion Service Center drives to different universities and collects blood as part of a blood drive. We want to predict whether or not a donor will give blood the next time the vehicle comes to campus.</p>\n",
    "<p>The data is stored in <code>datasets/transfusion.data</code> and it is structured according to RFMTC marketing model (a variation of RFM). We'll explore what that means later in this notebook. First, let's inspect the data.</p>"
   ]
  },
  {
   "cell_type": "code",
   "execution_count": 14,
   "metadata": {},
   "outputs": [
    {
     "name": "stdout",
     "output_type": "stream",
     "text": [
      "Collecting kaggle\n",
      "  Downloading kaggle-1.6.4.tar.gz (84 kB)\n",
      "     ---------------------------------------- 0.0/84.6 kB ? eta -:--:--\n",
      "     ---- ----------------------------------- 10.2/84.6 kB ? eta -:--:--\n",
      "     --------------------------- ---------- 61.4/84.6 kB 825.8 kB/s eta 0:00:01\n",
      "     -------------------------------------- 84.6/84.6 kB 953.1 kB/s eta 0:00:00\n",
      "  Preparing metadata (setup.py): started\n",
      "  Preparing metadata (setup.py): finished with status 'done'\n",
      "Requirement already satisfied: six>=1.10 in c:\\users\\evach\\anaconda3\\lib\\site-packages (from kaggle) (1.16.0)\n",
      "Requirement already satisfied: certifi in c:\\users\\evach\\anaconda3\\lib\\site-packages (from kaggle) (2023.11.17)\n",
      "Requirement already satisfied: python-dateutil in c:\\users\\evach\\anaconda3\\lib\\site-packages (from kaggle) (2.8.2)\n",
      "Requirement already satisfied: requests in c:\\users\\evach\\anaconda3\\lib\\site-packages (from kaggle) (2.31.0)\n",
      "Requirement already satisfied: tqdm in c:\\users\\evach\\anaconda3\\lib\\site-packages (from kaggle) (4.65.0)\n",
      "Requirement already satisfied: python-slugify in c:\\users\\evach\\anaconda3\\lib\\site-packages (from kaggle) (5.0.2)\n",
      "Requirement already satisfied: urllib3 in c:\\users\\evach\\anaconda3\\lib\\site-packages (from kaggle) (1.26.16)\n",
      "Requirement already satisfied: bleach in c:\\users\\evach\\anaconda3\\lib\\site-packages (from kaggle) (4.1.0)\n",
      "Requirement already satisfied: packaging in c:\\users\\evach\\anaconda3\\lib\\site-packages (from bleach->kaggle) (23.1)\n",
      "Requirement already satisfied: webencodings in c:\\users\\evach\\anaconda3\\lib\\site-packages (from bleach->kaggle) (0.5.1)\n",
      "Requirement already satisfied: text-unidecode>=1.3 in c:\\users\\evach\\anaconda3\\lib\\site-packages (from python-slugify->kaggle) (1.3)\n",
      "Requirement already satisfied: charset-normalizer<4,>=2 in c:\\users\\evach\\anaconda3\\lib\\site-packages (from requests->kaggle) (2.0.4)\n",
      "Requirement already satisfied: idna<4,>=2.5 in c:\\users\\evach\\anaconda3\\lib\\site-packages (from requests->kaggle) (3.4)\n",
      "Requirement already satisfied: colorama in c:\\users\\evach\\anaconda3\\lib\\site-packages (from tqdm->kaggle) (0.4.6)\n",
      "Building wheels for collected packages: kaggle\n",
      "  Building wheel for kaggle (setup.py): started\n",
      "  Building wheel for kaggle (setup.py): finished with status 'done'\n",
      "  Created wheel for kaggle: filename=kaggle-1.6.4-py3-none-any.whl size=111939 sha256=ef6884f5975b47798f518b2e867af95d0fad3f701d79d06293afacbedb0f1bd2\n",
      "  Stored in directory: c:\\users\\evach\\appdata\\local\\pip\\cache\\wheels\\4c\\d1\\2d\\5a064fb63c063256c82239e67a1a144af9abe480ed008ccdf3\n",
      "Successfully built kaggle\n",
      "Installing collected packages: kaggle\n",
      "Successfully installed kaggle-1.6.4\n"
     ]
    }
   ],
   "source": [
    "!pip install kaggle"
   ]
  },
  {
   "cell_type": "code",
   "execution_count": 1,
   "metadata": {
    "dc": {
     "key": "3"
    },
    "tags": [
     "sample_code"
    ]
   },
   "outputs": [
    {
     "name": "stdout",
     "output_type": "stream",
     "text": [
      "\r\n",
      "\r\n",
      "\r\n",
      "\r\n",
      "\r\n"
     ]
    }
   ],
   "source": [
    "# Print out the first 5 lines from the transfusion.data file\n",
    "!head -n5 ../input/transfusion.data"
   ]
  },
  {
   "cell_type": "markdown",
   "metadata": {
    "dc": {
     "key": "10"
    },
    "deletable": false,
    "editable": false,
    "run_control": {
     "frozen": true
    },
    "tags": [
     "context"
    ]
   },
   "source": [
    "## 2. Loading the blood donations data\n",
    "<p>We now know that we are working with a typical CSV file (i.e., the delimiter is <code>,</code>, etc.). We proceed to loading the data into memory.</p>"
   ]
  },
  {
   "cell_type": "code",
   "execution_count": 2,
   "metadata": {
    "dc": {
     "key": "10"
    },
    "tags": [
     "sample_code"
    ]
   },
   "outputs": [
    {
     "data": {
      "text/html": [
       "<div>\n",
       "<style scoped>\n",
       "    .dataframe tbody tr th:only-of-type {\n",
       "        vertical-align: middle;\n",
       "    }\n",
       "\n",
       "    .dataframe tbody tr th {\n",
       "        vertical-align: top;\n",
       "    }\n",
       "\n",
       "    .dataframe thead th {\n",
       "        text-align: right;\n",
       "    }\n",
       "</style>\n",
       "<table border=\"1\" class=\"dataframe\">\n",
       "  <thead>\n",
       "    <tr style=\"text-align: right;\">\n",
       "      <th></th>\n",
       "      <th>Recency (months)</th>\n",
       "      <th>Frequency (times)</th>\n",
       "      <th>Monetary (c.c. blood)</th>\n",
       "      <th>Time (months)</th>\n",
       "      <th>whether he/she donated blood in March 2007</th>\n",
       "    </tr>\n",
       "  </thead>\n",
       "  <tbody>\n",
       "    <tr>\n",
       "      <th>0</th>\n",
       "      <td>2</td>\n",
       "      <td>50</td>\n",
       "      <td>12500</td>\n",
       "      <td>98</td>\n",
       "      <td>1</td>\n",
       "    </tr>\n",
       "    <tr>\n",
       "      <th>1</th>\n",
       "      <td>0</td>\n",
       "      <td>13</td>\n",
       "      <td>3250</td>\n",
       "      <td>28</td>\n",
       "      <td>1</td>\n",
       "    </tr>\n",
       "    <tr>\n",
       "      <th>2</th>\n",
       "      <td>1</td>\n",
       "      <td>16</td>\n",
       "      <td>4000</td>\n",
       "      <td>35</td>\n",
       "      <td>1</td>\n",
       "    </tr>\n",
       "    <tr>\n",
       "      <th>3</th>\n",
       "      <td>2</td>\n",
       "      <td>20</td>\n",
       "      <td>5000</td>\n",
       "      <td>45</td>\n",
       "      <td>1</td>\n",
       "    </tr>\n",
       "    <tr>\n",
       "      <th>4</th>\n",
       "      <td>1</td>\n",
       "      <td>24</td>\n",
       "      <td>6000</td>\n",
       "      <td>77</td>\n",
       "      <td>0</td>\n",
       "    </tr>\n",
       "  </tbody>\n",
       "</table>\n",
       "</div>"
      ],
      "text/plain": [
       "   Recency (months)  Frequency (times)  Monetary (c.c. blood)  Time (months)  \\\n",
       "0                 2                 50                  12500             98   \n",
       "1                 0                 13                   3250             28   \n",
       "2                 1                 16                   4000             35   \n",
       "3                 2                 20                   5000             45   \n",
       "4                 1                 24                   6000             77   \n",
       "\n",
       "   whether he/she donated blood in March 2007  \n",
       "0                                           1  \n",
       "1                                           1  \n",
       "2                                           1  \n",
       "3                                           1  \n",
       "4                                           0  "
      ]
     },
     "execution_count": 2,
     "metadata": {},
     "output_type": "execute_result"
    }
   ],
   "source": [
    "# Import pandas\n",
    "import pandas as pd\n",
    "\n",
    "# Read in dataset\n",
    "transfusion = pd.read_csv('transfusion.data')\n",
    "\n",
    "# Print out the first rows of our dataset\n",
    "transfusion.head()"
   ]
  },
  {
   "cell_type": "markdown",
   "metadata": {
    "dc": {
     "key": "17"
    },
    "deletable": false,
    "editable": false,
    "run_control": {
     "frozen": true
    },
    "tags": [
     "context"
    ]
   },
   "source": [
    "## 3. Inspecting transfusion DataFrame\n",
    "<p>Let's briefly return to our discussion of RFM model. RFM stands for Recency, Frequency and Monetary Value and it is commonly used in marketing for identifying your best customers. In our case, our customers are blood donors.</p>\n",
    "<p>RFMTC is a variation of the RFM model. Below is a description of what each column means in our dataset:</p>\n",
    "<ul>\n",
    "<li>R (Recency - months since the last donation)</li>\n",
    "<li>F (Frequency - total number of donation)</li>\n",
    "<li>M (Monetary - total blood donated in c.c.)</li>\n",
    "<li>T (Time - months since the first donation)</li>\n",
    "<li>a binary variable representing whether he/she donated blood in March 2007 (1 stands for donating blood; 0 stands for not donating blood)</li>\n",
    "</ul>\n",
    "<p>It looks like every column in our DataFrame has the numeric type, which is exactly what we want when building a machine learning model. Let's verify our hypothesis.</p>"
   ]
  },
  {
   "cell_type": "code",
   "execution_count": 3,
   "metadata": {
    "dc": {
     "key": "17"
    },
    "tags": [
     "sample_code"
    ]
   },
   "outputs": [
    {
     "name": "stdout",
     "output_type": "stream",
     "text": [
      "<class 'pandas.core.frame.DataFrame'>\n",
      "RangeIndex: 748 entries, 0 to 747\n",
      "Data columns (total 5 columns):\n",
      " #   Column                                      Non-Null Count  Dtype\n",
      "---  ------                                      --------------  -----\n",
      " 0   Recency (months)                            748 non-null    int64\n",
      " 1   Frequency (times)                           748 non-null    int64\n",
      " 2   Monetary (c.c. blood)                       748 non-null    int64\n",
      " 3   Time (months)                               748 non-null    int64\n",
      " 4   whether he/she donated blood in March 2007  748 non-null    int64\n",
      "dtypes: int64(5)\n",
      "memory usage: 29.3 KB\n"
     ]
    }
   ],
   "source": [
    "# Print a concise summary of transfusion DataFrame\n",
    "transfusion.info()"
   ]
  },
  {
   "cell_type": "markdown",
   "metadata": {
    "dc": {
     "key": "24"
    },
    "deletable": false,
    "editable": false,
    "run_control": {
     "frozen": true
    },
    "tags": [
     "context"
    ]
   },
   "source": [
    "## 4. Creating target column\n",
    "<p>We are aiming to predict the value in <code>whether he/she donated blood in March 2007</code> column. Let's rename this it to <code>target</code> so that it's more convenient to work with.</p>"
   ]
  },
  {
   "cell_type": "code",
   "execution_count": 4,
   "metadata": {
    "dc": {
     "key": "24"
    },
    "tags": [
     "sample_code"
    ]
   },
   "outputs": [
    {
     "data": {
      "text/html": [
       "<div>\n",
       "<style scoped>\n",
       "    .dataframe tbody tr th:only-of-type {\n",
       "        vertical-align: middle;\n",
       "    }\n",
       "\n",
       "    .dataframe tbody tr th {\n",
       "        vertical-align: top;\n",
       "    }\n",
       "\n",
       "    .dataframe thead th {\n",
       "        text-align: right;\n",
       "    }\n",
       "</style>\n",
       "<table border=\"1\" class=\"dataframe\">\n",
       "  <thead>\n",
       "    <tr style=\"text-align: right;\">\n",
       "      <th></th>\n",
       "      <th>Recency (months)</th>\n",
       "      <th>Frequency (times)</th>\n",
       "      <th>Monetary (c.c. blood)</th>\n",
       "      <th>Time (months)</th>\n",
       "      <th>target</th>\n",
       "    </tr>\n",
       "  </thead>\n",
       "  <tbody>\n",
       "    <tr>\n",
       "      <th>0</th>\n",
       "      <td>2</td>\n",
       "      <td>50</td>\n",
       "      <td>12500</td>\n",
       "      <td>98</td>\n",
       "      <td>1</td>\n",
       "    </tr>\n",
       "    <tr>\n",
       "      <th>1</th>\n",
       "      <td>0</td>\n",
       "      <td>13</td>\n",
       "      <td>3250</td>\n",
       "      <td>28</td>\n",
       "      <td>1</td>\n",
       "    </tr>\n",
       "  </tbody>\n",
       "</table>\n",
       "</div>"
      ],
      "text/plain": [
       "   Recency (months)  Frequency (times)  Monetary (c.c. blood)  Time (months)  \\\n",
       "0                 2                 50                  12500             98   \n",
       "1                 0                 13                   3250             28   \n",
       "\n",
       "   target  \n",
       "0       1  \n",
       "1       1  "
      ]
     },
     "execution_count": 4,
     "metadata": {},
     "output_type": "execute_result"
    }
   ],
   "source": [
    "# Rename target column as 'target' for brevity \n",
    "transfusion.rename(\n",
    "    columns={'whether he/she donated blood in March 2007': 'target'},\n",
    "    inplace=True\n",
    ")\n",
    "\n",
    "# Print out the first 2 rows\n",
    "transfusion.head(2)"
   ]
  },
  {
   "cell_type": "markdown",
   "metadata": {
    "dc": {
     "key": "31"
    },
    "deletable": false,
    "editable": false,
    "run_control": {
     "frozen": true
    },
    "tags": [
     "context"
    ]
   },
   "source": [
    "## 5. Checking target incidence\n",
    "<p>We want to predict whether or not the same donor will give blood the next time the vehicle comes to campus. The model for this is a binary classifier, meaning that there are only 2 possible outcomes:</p>\n",
    "<ul>\n",
    "<li><code>0</code> - the donor will not give blood</li>\n",
    "<li><code>1</code> - the donor will give blood</li>\n",
    "</ul>\n",
    "<p>Target incidence is defined as the number of cases of each individual target value in a dataset. That is, how many 0s in the target column compared to how many 1s? Target incidence gives us an idea of how balanced (or imbalanced) is our dataset.</p>"
   ]
  },
  {
   "cell_type": "code",
   "execution_count": 5,
   "metadata": {
    "dc": {
     "key": "31"
    },
    "tags": [
     "sample_code"
    ]
   },
   "outputs": [
    {
     "data": {
      "text/plain": [
       "target\n",
       "0    0.762\n",
       "1    0.238\n",
       "Name: proportion, dtype: float64"
      ]
     },
     "execution_count": 5,
     "metadata": {},
     "output_type": "execute_result"
    }
   ],
   "source": [
    "# Print target incidence proportions, rounding output to 3 decimal places\n",
    "transfusion.target.value_counts(normalize=True).round(3)"
   ]
  },
  {
   "cell_type": "markdown",
   "metadata": {
    "dc": {
     "key": "38"
    },
    "deletable": false,
    "editable": false,
    "run_control": {
     "frozen": true
    },
    "tags": [
     "context"
    ]
   },
   "source": [
    "## 6. Splitting transfusion into train and test datasets\n",
    "<p>We'll now use <code>train_test_split()</code> method to split <code>transfusion</code> DataFrame.</p>\n",
    "<p>Target incidence informed us that in our dataset <code>0</code>s appear 76% of the time. We want to keep the same structure in train and test datasets, i.e., both datasets must have 0 target incidence of 76%. This is very easy to do using the <code>train_test_split()</code> method from the <code>scikit learn</code> library - all we need to do is specify the <code>stratify</code> parameter. In our case, we'll stratify on the <code>target</code> column.</p>"
   ]
  },
  {
   "cell_type": "code",
   "execution_count": 6,
   "metadata": {
    "dc": {
     "key": "38"
    },
    "tags": [
     "sample_code"
    ]
   },
   "outputs": [
    {
     "data": {
      "text/html": [
       "<div>\n",
       "<style scoped>\n",
       "    .dataframe tbody tr th:only-of-type {\n",
       "        vertical-align: middle;\n",
       "    }\n",
       "\n",
       "    .dataframe tbody tr th {\n",
       "        vertical-align: top;\n",
       "    }\n",
       "\n",
       "    .dataframe thead th {\n",
       "        text-align: right;\n",
       "    }\n",
       "</style>\n",
       "<table border=\"1\" class=\"dataframe\">\n",
       "  <thead>\n",
       "    <tr style=\"text-align: right;\">\n",
       "      <th></th>\n",
       "      <th>Recency (months)</th>\n",
       "      <th>Frequency (times)</th>\n",
       "      <th>Monetary (c.c. blood)</th>\n",
       "      <th>Time (months)</th>\n",
       "    </tr>\n",
       "  </thead>\n",
       "  <tbody>\n",
       "    <tr>\n",
       "      <th>334</th>\n",
       "      <td>16</td>\n",
       "      <td>2</td>\n",
       "      <td>500</td>\n",
       "      <td>16</td>\n",
       "    </tr>\n",
       "    <tr>\n",
       "      <th>99</th>\n",
       "      <td>5</td>\n",
       "      <td>7</td>\n",
       "      <td>1750</td>\n",
       "      <td>26</td>\n",
       "    </tr>\n",
       "  </tbody>\n",
       "</table>\n",
       "</div>"
      ],
      "text/plain": [
       "     Recency (months)  Frequency (times)  Monetary (c.c. blood)  Time (months)\n",
       "334                16                  2                    500             16\n",
       "99                  5                  7                   1750             26"
      ]
     },
     "execution_count": 6,
     "metadata": {},
     "output_type": "execute_result"
    }
   ],
   "source": [
    "# Import train_test_split method\n",
    "from sklearn.model_selection import train_test_split\n",
    "\n",
    "# Split transfusion DataFrame into\n",
    "# X_train, X_test, y_train and y_test datasets,\n",
    "# stratifying on the `target` column\n",
    "X_train, X_test, y_train, y_test = train_test_split(\n",
    "    transfusion.drop(columns='target'),\n",
    "    transfusion.target,\n",
    "    test_size=0.25,\n",
    "    random_state=42,\n",
    "    stratify=transfusion.target\n",
    ")\n",
    "\n",
    "# Print out the first 2 rows of X_train\n",
    "X_train.head(2)"
   ]
  },
  {
   "cell_type": "markdown",
   "metadata": {
    "dc": {
     "key": "45"
    },
    "deletable": false,
    "editable": false,
    "run_control": {
     "frozen": true
    },
    "tags": [
     "context"
    ]
   },
   "source": [
    "## 7. Selecting model using TPOT\n",
    "<p><a href=\"https://github.com/EpistasisLab/tpot\">TPOT</a> is a Python Automated Machine Learning tool that optimizes machine learning pipelines using genetic programming.</p>\n",
    "<p><img src=\"https://assets.datacamp.com/production/project_646/img/tpot-ml-pipeline.png\" alt=\"TPOT Machine Learning Pipeline\"></p>\n",
    "<p>TPOT will automatically explore hundreds of possible pipelines to find the best one for our dataset. Note, the outcome of this search will be a <a href=\"https://scikit-learn.org/stable/modules/generated/sklearn.pipeline.Pipeline.html\">scikit-learn pipeline</a>, meaning it will include any pre-processing steps as well as the model.</p>\n",
    "<p>We are using TPOT to help us zero in on one model that we can then explore and optimize further.</p>"
   ]
  },
  {
   "cell_type": "code",
   "execution_count": 9,
   "metadata": {
    "dc": {
     "key": "45"
    },
    "tags": [
     "sample_code"
    ]
   },
   "outputs": [
    {
     "name": "stdout",
     "output_type": "stream",
     "text": [
      "Collecting tpot\n",
      "  Obtaining dependency information for tpot from https://files.pythonhosted.org/packages/7b/a7/0060d028906ecd058b1331c3ce6f3f19ba03464b21dc9abbbaf66b0a1091/TPOT-0.12.1-py3-none-any.whl.metadata\n",
      "  Downloading TPOT-0.12.1-py3-none-any.whl.metadata (2.0 kB)\n",
      "Requirement already satisfied: numpy>=1.16.3 in c:\\users\\evach\\anaconda3\\lib\\site-packages (from tpot) (1.24.3)\n",
      "Requirement already satisfied: scipy>=1.3.1 in c:\\users\\evach\\anaconda3\\lib\\site-packages (from tpot) (1.11.1)\n",
      "Requirement already satisfied: scikit-learn>=0.22.0 in c:\\users\\evach\\anaconda3\\lib\\site-packages (from tpot) (1.3.0)\n",
      "Collecting deap>=1.2 (from tpot)\n",
      "  Downloading deap-1.4.1.tar.gz (1.1 MB)\n",
      "     ---------------------------------------- 0.0/1.1 MB ? eta -:--:--\n",
      "     ---------------------------------------- 0.0/1.1 MB ? eta -:--:--\n",
      "     ---- ----------------------------------- 0.1/1.1 MB 1.7 MB/s eta 0:00:01\n",
      "     ------------------ --------------------- 0.5/1.1 MB 4.5 MB/s eta 0:00:01\n",
      "     ------------------------------- -------- 0.8/1.1 MB 5.9 MB/s eta 0:00:01\n",
      "     ---------------------------------------- 1.1/1.1 MB 6.2 MB/s eta 0:00:00\n",
      "  Preparing metadata (setup.py): started\n",
      "  Preparing metadata (setup.py): finished with status 'done'\n",
      "Collecting update-checker>=0.16 (from tpot)\n",
      "  Downloading update_checker-0.18.0-py3-none-any.whl (7.0 kB)\n",
      "Requirement already satisfied: tqdm>=4.36.1 in c:\\users\\evach\\anaconda3\\lib\\site-packages (from tpot) (4.65.0)\n",
      "Collecting stopit>=1.1.1 (from tpot)\n",
      "  Downloading stopit-1.1.2.tar.gz (18 kB)\n",
      "  Preparing metadata (setup.py): started\n",
      "  Preparing metadata (setup.py): finished with status 'done'\n",
      "Requirement already satisfied: pandas>=0.24.2 in c:\\users\\evach\\anaconda3\\lib\\site-packages (from tpot) (2.0.3)\n",
      "Requirement already satisfied: joblib>=0.13.2 in c:\\users\\evach\\anaconda3\\lib\\site-packages (from tpot) (1.2.0)\n",
      "Collecting xgboost>=1.1.0 (from tpot)\n",
      "  Obtaining dependency information for xgboost>=1.1.0 from https://files.pythonhosted.org/packages/24/ec/ad387100fa3cc2b9b81af0829b5ecfe75ec5bb19dd7c19d4fea06fb81802/xgboost-2.0.3-py3-none-win_amd64.whl.metadata\n",
      "  Downloading xgboost-2.0.3-py3-none-win_amd64.whl.metadata (2.0 kB)\n",
      "Requirement already satisfied: python-dateutil>=2.8.2 in c:\\users\\evach\\anaconda3\\lib\\site-packages (from pandas>=0.24.2->tpot) (2.8.2)\n",
      "Requirement already satisfied: pytz>=2020.1 in c:\\users\\evach\\anaconda3\\lib\\site-packages (from pandas>=0.24.2->tpot) (2023.3.post1)\n",
      "Requirement already satisfied: tzdata>=2022.1 in c:\\users\\evach\\anaconda3\\lib\\site-packages (from pandas>=0.24.2->tpot) (2023.3)\n",
      "Requirement already satisfied: threadpoolctl>=2.0.0 in c:\\users\\evach\\anaconda3\\lib\\site-packages (from scikit-learn>=0.22.0->tpot) (2.2.0)\n",
      "Requirement already satisfied: colorama in c:\\users\\evach\\anaconda3\\lib\\site-packages (from tqdm>=4.36.1->tpot) (0.4.6)\n",
      "Requirement already satisfied: requests>=2.3.0 in c:\\users\\evach\\anaconda3\\lib\\site-packages (from update-checker>=0.16->tpot) (2.31.0)\n",
      "Requirement already satisfied: six>=1.5 in c:\\users\\evach\\anaconda3\\lib\\site-packages (from python-dateutil>=2.8.2->pandas>=0.24.2->tpot) (1.16.0)\n",
      "Requirement already satisfied: charset-normalizer<4,>=2 in c:\\users\\evach\\anaconda3\\lib\\site-packages (from requests>=2.3.0->update-checker>=0.16->tpot) (2.0.4)\n",
      "Requirement already satisfied: idna<4,>=2.5 in c:\\users\\evach\\anaconda3\\lib\\site-packages (from requests>=2.3.0->update-checker>=0.16->tpot) (3.4)\n",
      "Requirement already satisfied: urllib3<3,>=1.21.1 in c:\\users\\evach\\anaconda3\\lib\\site-packages (from requests>=2.3.0->update-checker>=0.16->tpot) (1.26.16)\n",
      "Requirement already satisfied: certifi>=2017.4.17 in c:\\users\\evach\\anaconda3\\lib\\site-packages (from requests>=2.3.0->update-checker>=0.16->tpot) (2023.11.17)\n",
      "Downloading TPOT-0.12.1-py3-none-any.whl (87 kB)\n",
      "   ---------------------------------------- 0.0/87.4 kB ? eta -:--:--\n",
      "   ---------------------------------------- 87.4/87.4 kB ? eta 0:00:00\n",
      "Downloading xgboost-2.0.3-py3-none-win_amd64.whl (99.8 MB)\n",
      "   ---------------------------------------- 0.0/99.8 MB ? eta -:--:--\n",
      "   ---------------------------------------- 0.5/99.8 MB 30.7 MB/s eta 0:00:04\n",
      "   ---------------------------------------- 0.9/99.8 MB 11.0 MB/s eta 0:00:09\n",
      "    --------------------------------------- 1.5/99.8 MB 13.4 MB/s eta 0:00:08\n",
      "    --------------------------------------- 2.4/99.8 MB 13.8 MB/s eta 0:00:08\n",
      "   - -------------------------------------- 2.9/99.8 MB 13.4 MB/s eta 0:00:08\n",
      "   - -------------------------------------- 3.7/99.8 MB 13.9 MB/s eta 0:00:07\n",
      "   - -------------------------------------- 4.3/99.8 MB 14.5 MB/s eta 0:00:07\n",
      "   -- ------------------------------------- 5.1/99.8 MB 14.1 MB/s eta 0:00:07\n",
      "   -- ------------------------------------- 5.7/99.8 MB 14.6 MB/s eta 0:00:07\n",
      "   -- ------------------------------------- 6.5/99.8 MB 14.3 MB/s eta 0:00:07\n",
      "   -- ------------------------------------- 7.1/99.8 MB 14.1 MB/s eta 0:00:07\n",
      "   --- ------------------------------------ 7.9/99.8 MB 14.4 MB/s eta 0:00:07\n",
      "   --- ------------------------------------ 8.5/99.8 MB 14.7 MB/s eta 0:00:07\n",
      "   --- ------------------------------------ 9.1/99.8 MB 14.5 MB/s eta 0:00:07\n",
      "   --- ------------------------------------ 9.6/99.8 MB 14.6 MB/s eta 0:00:07\n",
      "   ---- ----------------------------------- 10.3/99.8 MB 13.9 MB/s eta 0:00:07\n",
      "   ---- ----------------------------------- 11.2/99.8 MB 14.5 MB/s eta 0:00:07\n",
      "   ---- ----------------------------------- 11.6/99.8 MB 14.2 MB/s eta 0:00:07\n",
      "   ---- ----------------------------------- 12.5/99.8 MB 14.2 MB/s eta 0:00:07\n",
      "   ----- ---------------------------------- 13.1/99.8 MB 14.9 MB/s eta 0:00:06\n",
      "   ----- ---------------------------------- 13.8/99.8 MB 14.9 MB/s eta 0:00:06\n",
      "   ----- ---------------------------------- 14.4/99.8 MB 14.6 MB/s eta 0:00:06\n",
      "   ----- ---------------------------------- 14.9/99.8 MB 14.2 MB/s eta 0:00:06\n",
      "   ------ --------------------------------- 15.2/99.8 MB 13.9 MB/s eta 0:00:07\n",
      "   ------ --------------------------------- 16.1/99.8 MB 14.2 MB/s eta 0:00:06\n",
      "   ------ --------------------------------- 16.7/99.8 MB 13.9 MB/s eta 0:00:06\n",
      "   ------- -------------------------------- 17.6/99.8 MB 14.2 MB/s eta 0:00:06\n",
      "   ------- -------------------------------- 18.1/99.8 MB 14.5 MB/s eta 0:00:06\n",
      "   ------- -------------------------------- 18.9/99.8 MB 14.2 MB/s eta 0:00:06\n",
      "   ------- -------------------------------- 19.4/99.8 MB 14.2 MB/s eta 0:00:06\n",
      "   ------- -------------------------------- 19.8/99.8 MB 13.6 MB/s eta 0:00:06\n",
      "   -------- ------------------------------- 20.7/99.8 MB 13.9 MB/s eta 0:00:06\n",
      "   -------- ------------------------------- 21.4/99.8 MB 13.9 MB/s eta 0:00:06\n",
      "   -------- ------------------------------- 21.9/99.8 MB 14.2 MB/s eta 0:00:06\n",
      "   --------- ------------------------------ 22.5/99.8 MB 13.6 MB/s eta 0:00:06\n",
      "   --------- ------------------------------ 23.2/99.8 MB 13.9 MB/s eta 0:00:06\n",
      "   --------- ------------------------------ 23.8/99.8 MB 13.9 MB/s eta 0:00:06\n",
      "   --------- ------------------------------ 24.3/99.8 MB 13.9 MB/s eta 0:00:06\n",
      "   --------- ------------------------------ 24.8/99.8 MB 13.6 MB/s eta 0:00:06\n",
      "   ---------- ----------------------------- 25.4/99.8 MB 13.4 MB/s eta 0:00:06\n",
      "   ---------- ----------------------------- 26.1/99.8 MB 13.6 MB/s eta 0:00:06\n",
      "   ---------- ----------------------------- 26.5/99.8 MB 13.1 MB/s eta 0:00:06\n",
      "   ---------- ----------------------------- 27.2/99.8 MB 13.9 MB/s eta 0:00:06\n",
      "   ----------- ---------------------------- 28.0/99.8 MB 13.4 MB/s eta 0:00:06\n",
      "   ----------- ---------------------------- 28.4/99.8 MB 13.6 MB/s eta 0:00:06\n",
      "   ----------- ---------------------------- 29.3/99.8 MB 13.4 MB/s eta 0:00:06\n",
      "   ------------ --------------------------- 30.0/99.8 MB 13.4 MB/s eta 0:00:06\n",
      "   ------------ --------------------------- 30.5/99.8 MB 13.4 MB/s eta 0:00:06\n",
      "   ------------ --------------------------- 31.3/99.8 MB 13.9 MB/s eta 0:00:05\n",
      "   ------------ --------------------------- 31.8/99.8 MB 13.4 MB/s eta 0:00:06\n",
      "   ------------ --------------------------- 32.4/99.8 MB 13.6 MB/s eta 0:00:05\n",
      "   ------------- -------------------------- 33.0/99.8 MB 13.1 MB/s eta 0:00:06\n",
      "   ------------- -------------------------- 33.9/99.8 MB 13.1 MB/s eta 0:00:06\n",
      "   ------------- -------------------------- 34.6/99.8 MB 13.9 MB/s eta 0:00:05\n",
      "   -------------- ------------------------- 35.2/99.8 MB 14.2 MB/s eta 0:00:05\n",
      "   -------------- ------------------------- 36.0/99.8 MB 13.9 MB/s eta 0:00:05\n",
      "   -------------- ------------------------- 36.3/99.8 MB 13.9 MB/s eta 0:00:05\n",
      "   -------------- ------------------------- 37.3/99.8 MB 14.2 MB/s eta 0:00:05\n",
      "   --------------- ------------------------ 37.8/99.8 MB 14.2 MB/s eta 0:00:05\n",
      "   --------------- ------------------------ 38.8/99.8 MB 14.5 MB/s eta 0:00:05\n",
      "   --------------- ------------------------ 39.5/99.8 MB 14.6 MB/s eta 0:00:05\n",
      "   --------------- ------------------------ 39.8/99.8 MB 14.2 MB/s eta 0:00:05\n",
      "   ---------------- ----------------------- 40.4/99.8 MB 14.2 MB/s eta 0:00:05\n",
      "   ---------------- ----------------------- 41.1/99.8 MB 14.2 MB/s eta 0:00:05\n",
      "   ---------------- ----------------------- 41.7/99.8 MB 14.2 MB/s eta 0:00:05\n",
      "   ---------------- ----------------------- 42.2/99.8 MB 14.5 MB/s eta 0:00:04\n",
      "   ----------------- ---------------------- 43.1/99.8 MB 14.6 MB/s eta 0:00:04\n",
      "   ----------------- ---------------------- 43.9/99.8 MB 14.2 MB/s eta 0:00:04\n",
      "   ----------------- ---------------------- 44.6/99.8 MB 14.6 MB/s eta 0:00:04\n",
      "   ------------------ --------------------- 45.0/99.8 MB 14.2 MB/s eta 0:00:04\n",
      "   ------------------ --------------------- 45.7/99.8 MB 14.2 MB/s eta 0:00:04\n",
      "   ------------------ --------------------- 46.5/99.8 MB 14.2 MB/s eta 0:00:04\n",
      "   ------------------ --------------------- 47.0/99.8 MB 14.6 MB/s eta 0:00:04\n",
      "   ------------------- -------------------- 47.5/99.8 MB 14.5 MB/s eta 0:00:04\n",
      "   ------------------- -------------------- 48.1/99.8 MB 14.2 MB/s eta 0:00:04\n",
      "   ------------------- -------------------- 49.0/99.8 MB 13.9 MB/s eta 0:00:04\n",
      "   ------------------- -------------------- 49.4/99.8 MB 14.2 MB/s eta 0:00:04\n",
      "   -------------------- ------------------- 50.2/99.8 MB 13.9 MB/s eta 0:00:04\n",
      "   -------------------- ------------------- 50.9/99.8 MB 13.9 MB/s eta 0:00:04\n",
      "   -------------------- ------------------- 51.6/99.8 MB 14.2 MB/s eta 0:00:04\n",
      "   -------------------- ------------------- 52.1/99.8 MB 14.2 MB/s eta 0:00:04\n",
      "   --------------------- ------------------ 52.8/99.8 MB 13.9 MB/s eta 0:00:04\n",
      "   --------------------- ------------------ 53.2/99.8 MB 14.2 MB/s eta 0:00:04\n",
      "   --------------------- ------------------ 54.3/99.8 MB 13.9 MB/s eta 0:00:04\n",
      "   --------------------- ------------------ 54.8/99.8 MB 13.9 MB/s eta 0:00:04\n",
      "   ---------------------- ----------------- 55.2/99.8 MB 13.9 MB/s eta 0:00:04\n",
      "   ---------------------- ----------------- 55.7/99.8 MB 14.2 MB/s eta 0:00:04\n",
      "   ---------------------- ----------------- 56.5/99.8 MB 13.9 MB/s eta 0:00:04\n",
      "   ---------------------- ----------------- 56.5/99.8 MB 13.9 MB/s eta 0:00:04\n",
      "   ---------------------- ----------------- 57.1/99.8 MB 12.6 MB/s eta 0:00:04\n",
      "   ---------------------- ----------------- 57.4/99.8 MB 12.8 MB/s eta 0:00:04\n",
      "   ----------------------- ---------------- 57.8/99.8 MB 12.6 MB/s eta 0:00:04\n",
      "   ----------------------- ---------------- 58.4/99.8 MB 12.6 MB/s eta 0:00:04\n",
      "   ----------------------- ---------------- 59.0/99.8 MB 12.4 MB/s eta 0:00:04\n",
      "   ----------------------- ---------------- 59.7/99.8 MB 12.6 MB/s eta 0:00:04\n",
      "   ------------------------ --------------- 60.3/99.8 MB 12.1 MB/s eta 0:00:04\n",
      "   ------------------------ --------------- 60.8/99.8 MB 12.4 MB/s eta 0:00:04\n",
      "   ------------------------ --------------- 61.3/99.8 MB 12.4 MB/s eta 0:00:04\n",
      "   ------------------------ --------------- 62.3/99.8 MB 12.4 MB/s eta 0:00:04\n",
      "   ------------------------- -------------- 62.8/99.8 MB 12.1 MB/s eta 0:00:04\n",
      "   ------------------------- -------------- 63.4/99.8 MB 11.9 MB/s eta 0:00:04\n",
      "   ------------------------- -------------- 64.0/99.8 MB 12.6 MB/s eta 0:00:03\n",
      "   ------------------------- -------------- 64.6/99.8 MB 12.1 MB/s eta 0:00:03\n",
      "   ------------------------- -------------- 64.6/99.8 MB 12.1 MB/s eta 0:00:03\n",
      "   -------------------------- ------------- 66.1/99.8 MB 12.6 MB/s eta 0:00:03\n",
      "   -------------------------- ------------- 66.5/99.8 MB 11.9 MB/s eta 0:00:03\n",
      "   -------------------------- ------------- 67.3/99.8 MB 12.8 MB/s eta 0:00:03\n",
      "   --------------------------- ------------ 67.9/99.8 MB 13.6 MB/s eta 0:00:03\n",
      "   --------------------------- ------------ 68.6/99.8 MB 13.6 MB/s eta 0:00:03\n",
      "   --------------------------- ------------ 69.2/99.8 MB 13.6 MB/s eta 0:00:03\n",
      "   --------------------------- ------------ 69.5/99.8 MB 13.4 MB/s eta 0:00:03\n",
      "   ---------------------------- ----------- 70.5/99.8 MB 13.9 MB/s eta 0:00:03\n",
      "   ---------------------------- ----------- 70.8/99.8 MB 13.4 MB/s eta 0:00:03\n",
      "   ---------------------------- ----------- 71.7/99.8 MB 13.9 MB/s eta 0:00:03\n",
      "   ---------------------------- ----------- 72.2/99.8 MB 13.9 MB/s eta 0:00:02\n",
      "   ----------------------------- ---------- 73.1/99.8 MB 14.2 MB/s eta 0:00:02\n",
      "   ----------------------------- ---------- 73.4/99.8 MB 13.9 MB/s eta 0:00:02\n",
      "   ----------------------------- ---------- 74.4/99.8 MB 13.9 MB/s eta 0:00:02\n",
      "   ------------------------------ --------- 74.8/99.8 MB 13.4 MB/s eta 0:00:02\n",
      "   ------------------------------ --------- 75.2/99.8 MB 14.9 MB/s eta 0:00:02\n",
      "   ------------------------------ --------- 75.9/99.8 MB 13.6 MB/s eta 0:00:02\n",
      "   ------------------------------ --------- 76.7/99.8 MB 13.9 MB/s eta 0:00:02\n",
      "   ------------------------------- -------- 77.5/99.8 MB 13.4 MB/s eta 0:00:02\n",
      "   ------------------------------- -------- 77.9/99.8 MB 13.6 MB/s eta 0:00:02\n",
      "   ------------------------------- -------- 78.5/99.8 MB 13.6 MB/s eta 0:00:02\n",
      "   ------------------------------- -------- 79.2/99.8 MB 13.4 MB/s eta 0:00:02\n",
      "   ------------------------------- -------- 79.8/99.8 MB 14.2 MB/s eta 0:00:02\n",
      "   -------------------------------- ------- 80.2/99.8 MB 13.6 MB/s eta 0:00:02\n",
      "   -------------------------------- ------- 80.9/99.8 MB 13.4 MB/s eta 0:00:02\n",
      "   -------------------------------- ------- 81.6/99.8 MB 13.9 MB/s eta 0:00:02\n",
      "   -------------------------------- ------- 82.2/99.8 MB 13.4 MB/s eta 0:00:02\n",
      "   --------------------------------- ------ 83.1/99.8 MB 13.9 MB/s eta 0:00:02\n",
      "   --------------------------------- ------ 83.5/99.8 MB 13.6 MB/s eta 0:00:02\n",
      "   --------------------------------- ------ 84.1/99.8 MB 13.4 MB/s eta 0:00:02\n",
      "   --------------------------------- ------ 84.7/99.8 MB 13.6 MB/s eta 0:00:02\n",
      "   ---------------------------------- ----- 85.3/99.8 MB 13.4 MB/s eta 0:00:02\n",
      "   ---------------------------------- ----- 86.0/99.8 MB 13.9 MB/s eta 0:00:01\n",
      "   ---------------------------------- ----- 86.4/99.8 MB 13.1 MB/s eta 0:00:02\n",
      "   ---------------------------------- ----- 87.2/99.8 MB 13.4 MB/s eta 0:00:01\n",
      "   ----------------------------------- ---- 87.7/99.8 MB 13.1 MB/s eta 0:00:01\n",
      "   ----------------------------------- ---- 88.2/99.8 MB 13.4 MB/s eta 0:00:01\n",
      "   ----------------------------------- ---- 89.0/99.8 MB 13.4 MB/s eta 0:00:01\n",
      "   ----------------------------------- ---- 89.4/99.8 MB 13.1 MB/s eta 0:00:01\n",
      "   ------------------------------------ --- 89.8/99.8 MB 13.1 MB/s eta 0:00:01\n",
      "   ------------------------------------ --- 90.7/99.8 MB 13.1 MB/s eta 0:00:01\n",
      "   ------------------------------------ --- 91.4/99.8 MB 13.1 MB/s eta 0:00:01\n",
      "   ------------------------------------ --- 91.8/99.8 MB 12.8 MB/s eta 0:00:01\n",
      "   ------------------------------------- -- 92.6/99.8 MB 13.1 MB/s eta 0:00:01\n",
      "   ------------------------------------- -- 92.9/99.8 MB 13.1 MB/s eta 0:00:01\n",
      "   ------------------------------------- -- 93.6/99.8 MB 13.1 MB/s eta 0:00:01\n",
      "   ------------------------------------- -- 94.0/99.8 MB 12.8 MB/s eta 0:00:01\n",
      "   -------------------------------------- - 94.9/99.8 MB 12.8 MB/s eta 0:00:01\n",
      "   -------------------------------------- - 95.4/99.8 MB 12.8 MB/s eta 0:00:01\n",
      "   -------------------------------------- - 96.1/99.8 MB 12.8 MB/s eta 0:00:01\n",
      "   -------------------------------------- - 96.8/99.8 MB 13.1 MB/s eta 0:00:01\n",
      "   -------------------------------------- - 97.1/99.8 MB 13.1 MB/s eta 0:00:01\n",
      "   ---------------------------------------  97.9/99.8 MB 13.6 MB/s eta 0:00:01\n",
      "   ---------------------------------------  98.4/99.8 MB 13.4 MB/s eta 0:00:01\n",
      "   ---------------------------------------  99.2/99.8 MB 13.1 MB/s eta 0:00:01\n",
      "   ---------------------------------------  99.7/99.8 MB 13.4 MB/s eta 0:00:01\n",
      "   ---------------------------------------  99.7/99.8 MB 13.1 MB/s eta 0:00:01\n",
      "   ---------------------------------------  99.7/99.8 MB 13.1 MB/s eta 0:00:01\n",
      "   ---------------------------------------  99.7/99.8 MB 13.1 MB/s eta 0:00:01\n",
      "   ---------------------------------------  99.7/99.8 MB 13.1 MB/s eta 0:00:01\n",
      "   ---------------------------------------- 99.8/99.8 MB 10.1 MB/s eta 0:00:00\n",
      "Building wheels for collected packages: deap, stopit\n",
      "  Building wheel for deap (setup.py): started\n",
      "  Building wheel for deap (setup.py): finished with status 'done'\n",
      "  Created wheel for deap: filename=deap-1.4.1-py3-none-any.whl size=97349 sha256=7118f682c483953f945b07b43b23c22942d630817bfe25cbe84effcbac2ac39b\n",
      "  Stored in directory: c:\\users\\evach\\appdata\\local\\pip\\cache\\wheels\\f8\\64\\b8\\65eacfbff3024ae2e2beb22e691d5c8abb89fbd863b8049b5f\n",
      "  Building wheel for stopit (setup.py): started\n",
      "  Building wheel for stopit (setup.py): finished with status 'done'\n",
      "  Created wheel for stopit: filename=stopit-1.1.2-py3-none-any.whl size=12019 sha256=9b97f341e959d0aefbc4fa835df302791fb6c2b117971d54f154815bd2dde82d\n",
      "  Stored in directory: c:\\users\\evach\\appdata\\local\\pip\\cache\\wheels\\da\\77\\2d\\adbc56bc4db95ad80c6d4e71cd69e2d9d122174904342e3f7f\n",
      "Successfully built deap stopit\n",
      "Installing collected packages: stopit, deap, xgboost, update-checker, tpot\n",
      "Successfully installed deap-1.4.1 stopit-1.1.2 tpot-0.12.1 update-checker-0.18.0 xgboost-2.0.3\n"
     ]
    },
    {
     "name": "stderr",
     "output_type": "stream",
     "text": [
      "c:\\Users\\evach\\anaconda3\\Lib\\site-packages\\tpot\\builtins\\__init__.py:36: UserWarning: Warning: optional dependency `torch` is not available. - skipping import of NN models.\n",
      "  warnings.warn(\"Warning: optional dependency `torch` is not available. - skipping import of NN models.\")\n"
     ]
    },
    {
     "data": {
      "application/vnd.jupyter.widget-view+json": {
       "model_id": "9cc42d94386649c0a9e31389e5a37f8a",
       "version_major": 2,
       "version_minor": 0
      },
      "text/plain": [
       "Optimization Progress:   0%|          | 0/120 [00:00<?, ?pipeline/s]"
      ]
     },
     "metadata": {},
     "output_type": "display_data"
    },
    {
     "name": "stdout",
     "output_type": "stream",
     "text": [
      "\n",
      "Generation 1 - Current best internal CV score: 0.7422459184429089\n",
      "\n",
      "Generation 2 - Current best internal CV score: 0.7422459184429089\n",
      "\n",
      "Generation 3 - Current best internal CV score: 0.7423330644124078\n",
      "\n",
      "Generation 4 - Current best internal CV score: 0.7423330644124078\n",
      "\n",
      "Generation 5 - Current best internal CV score: 0.7423330644124078\n",
      "\n",
      "Best pipeline: LogisticRegression(RobustScaler(input_matrix), C=25.0, dual=False, penalty=l2)\n",
      "\n",
      "AUC score: 0.7858\n",
      "\n",
      "Best pipeline steps:\n",
      "1. RobustScaler()\n",
      "2. LogisticRegression(C=25.0, random_state=42)\n"
     ]
    }
   ],
   "source": [
    "!pip install tpot\n",
    "# Import TPOTClassifier and roc_auc_score\n",
    "from tpot import TPOTClassifier\n",
    "from sklearn.metrics import roc_auc_score\n",
    "\n",
    "# Instantiate TPOTClassifier\n",
    "tpot = TPOTClassifier(\n",
    "    generations=5,\n",
    "    population_size=20,\n",
    "    verbosity=2,\n",
    "    scoring='roc_auc',\n",
    "    random_state=42,\n",
    "    disable_update_check=True,\n",
    "    config_dict='TPOT light'\n",
    ")\n",
    "tpot.fit(X_train, y_train)\n",
    "\n",
    "# AUC score for tpot model\n",
    "tpot_auc_score = roc_auc_score(y_test, tpot.predict_proba(X_test)[:, 1])\n",
    "print(f'\\nAUC score: {tpot_auc_score:.4f}')\n",
    "\n",
    "# Print best pipeline steps\n",
    "print('\\nBest pipeline steps:', end='\\n')\n",
    "for idx, (name, transform) in enumerate(tpot.fitted_pipeline_.steps, start=1):\n",
    "    # Print idx and transform\n",
    "    print(f'{idx}. {transform}')"
   ]
  },
  {
   "cell_type": "markdown",
   "metadata": {
    "dc": {
     "key": "52"
    },
    "deletable": false,
    "editable": false,
    "run_control": {
     "frozen": true
    },
    "tags": [
     "context"
    ]
   },
   "source": [
    "## 8. Checking the variance\n",
    "<p>TPOT picked <code>LogisticRegression</code> as the best model for our dataset with no pre-processing steps, giving us the AUC score of 0.7850. This is a great starting point. Let's see if we can make it better.</p>\n",
    "<p>One of the assumptions for linear regression models is that the data and the features we are giving it are related in a linear fashion, or can be measured with a linear distance metric. If a feature in our dataset has a high variance that's an order of magnitude or more greater than the other features, this could impact the model's ability to learn from other features in the dataset.</p>\n",
    "<p>Correcting for high variance is called normalization. It is one of the possible transformations you do before training a model. Let's check the variance to see if such transformation is needed.</p>"
   ]
  },
  {
   "cell_type": "code",
   "execution_count": 10,
   "metadata": {
    "dc": {
     "key": "52"
    },
    "tags": [
     "sample_code"
    ]
   },
   "outputs": [
    {
     "data": {
      "text/plain": [
       "Recency (months)              66.929\n",
       "Frequency (times)             33.830\n",
       "Monetary (c.c. blood)    2114363.700\n",
       "Time (months)                611.147\n",
       "dtype: float64"
      ]
     },
     "execution_count": 10,
     "metadata": {},
     "output_type": "execute_result"
    }
   ],
   "source": [
    "# X_train's variance, rounding the output to 3 decimal places\n",
    "X_train.var().round(3)"
   ]
  },
  {
   "cell_type": "markdown",
   "metadata": {
    "dc": {
     "key": "59"
    },
    "deletable": false,
    "editable": false,
    "run_control": {
     "frozen": true
    },
    "tags": [
     "context"
    ]
   },
   "source": [
    "## 9. Log normalization\n",
    "<p><code>Monetary (c.c. blood)</code>'s variance is very high in comparison to any other column in the dataset. This means that, unless accounted for, this feature may get more weight by the model (i.e., be seen as more important) than any other feature.</p>\n",
    "<p>One way to correct for high variance is to use log normalization.</p>"
   ]
  },
  {
   "cell_type": "code",
   "execution_count": 11,
   "metadata": {
    "dc": {
     "key": "59"
    },
    "tags": [
     "sample_code"
    ]
   },
   "outputs": [
    {
     "data": {
      "text/plain": [
       "Recency (months)      66.929\n",
       "Frequency (times)     33.830\n",
       "Time (months)        611.147\n",
       "monetary_log           0.837\n",
       "dtype: float64"
      ]
     },
     "execution_count": 11,
     "metadata": {},
     "output_type": "execute_result"
    }
   ],
   "source": [
    "# Import numpy\n",
    "import numpy as np\n",
    "\n",
    "# Copy X_train and X_test into X_train_normed and X_test_normed\n",
    "X_train_normed, X_test_normed = X_train.copy(), X_test.copy()\n",
    "\n",
    "# Specify which column to normalize\n",
    "col_to_normalize = 'Monetary (c.c. blood)'\n",
    "\n",
    "# Log normalization\n",
    "for df_ in [X_train_normed, X_test_normed]:\n",
    "    # Add log normalized column\n",
    "    df_['monetary_log'] = np.log(df_[col_to_normalize])\n",
    "    # Drop the original column\n",
    "    df_.drop(columns=col_to_normalize, inplace=True)\n",
    "\n",
    "# Check the variance for X_train_normed\n",
    "X_train_normed.var().round(3)"
   ]
  },
  {
   "cell_type": "markdown",
   "metadata": {
    "dc": {
     "key": "66"
    },
    "deletable": false,
    "editable": false,
    "run_control": {
     "frozen": true
    },
    "tags": [
     "context"
    ]
   },
   "source": [
    "## 10. Training the linear regression model\n",
    "<p>The variance looks much better now. Notice that now <code>Time (months)</code> has the largest variance, but it's not the <a href=\"https://en.wikipedia.org/wiki/Order_of_magnitude\">orders of magnitude</a> higher than the rest of the variables, so we'll leave it as is.</p>\n",
    "<p>We are now ready to train the linear regression model.</p>"
   ]
  },
  {
   "cell_type": "code",
   "execution_count": 12,
   "metadata": {
    "dc": {
     "key": "66"
    },
    "tags": [
     "sample_code"
    ]
   },
   "outputs": [
    {
     "name": "stdout",
     "output_type": "stream",
     "text": [
      "\n",
      "AUC score: 0.7891\n"
     ]
    }
   ],
   "source": [
    "# Importing modules\n",
    "from sklearn import linear_model\n",
    "\n",
    "# Instantiate LogisticRegression\n",
    "logreg = linear_model.LogisticRegression(\n",
    "    solver='liblinear',\n",
    "    random_state=42\n",
    ")\n",
    "\n",
    "# Train the model\n",
    "logreg.fit(X_train_normed, y_train)\n",
    "\n",
    "# AUC score for tpot model\n",
    "logreg_auc_score = roc_auc_score(y_test, logreg.predict_proba(X_test_normed)[:, 1])\n",
    "print(f'\\nAUC score: {logreg_auc_score:.4f}')"
   ]
  },
  {
   "cell_type": "markdown",
   "metadata": {
    "dc": {
     "key": "73"
    },
    "deletable": false,
    "editable": false,
    "run_control": {
     "frozen": true
    },
    "tags": [
     "context"
    ]
   },
   "source": [
    "## 11. Conclusion\n",
    "<p>The demand for blood fluctuates throughout the year. As one <a href=\"https://www.kjrh.com/news/local-news/red-cross-in-blood-donation-crisis\">prominent</a> example, blood donations slow down during busy holiday seasons. An accurate forecast for the future supply of blood allows for an appropriate action to be taken ahead of time and therefore saving more lives.</p>\n",
    "<p>In this notebook, we explored automatic model selection using TPOT and AUC score we got was 0.7850. This is better than simply choosing <code>0</code> all the time (the target incidence suggests that such a model would have 76% success rate). We then log normalized our training data and improved the AUC score by 0.5%. In the field of machine learning, even small improvements in accuracy can be important, depending on the purpose.</p>\n",
    "<p>Another benefit of using logistic regression model is that it is interpretable. We can analyze how much of the variance in the response variable (<code>target</code>) can be explained by other variables in our dataset.</p>"
   ]
  },
  {
   "cell_type": "code",
   "execution_count": 13,
   "metadata": {
    "dc": {
     "key": "73"
    },
    "tags": [
     "sample_code"
    ]
   },
   "outputs": [
    {
     "data": {
      "text/plain": [
       "[('logreg', 0.7890972663699937), ('tpot', 0.7857596948506039)]"
      ]
     },
     "execution_count": 13,
     "metadata": {},
     "output_type": "execute_result"
    }
   ],
   "source": [
    "# Importing itemgetter\n",
    "from operator import itemgetter\n",
    "\n",
    "# Sort models based on their AUC score from highest to lowest\n",
    "sorted(\n",
    "    [('tpot', tpot_auc_score), ('logreg', logreg_auc_score)],\n",
    "    key=itemgetter(1),\n",
    "    reverse=True)"
   ]
  },
  {
   "cell_type": "code",
   "execution_count": null,
   "metadata": {},
   "outputs": [],
   "source": []
  }
 ],
 "metadata": {
  "kernelspec": {
   "display_name": "Python 3",
   "language": "python",
   "name": "python3"
  },
  "language_info": {
   "codemirror_mode": {
    "name": "ipython",
    "version": 3
   },
   "file_extension": ".py",
   "mimetype": "text/x-python",
   "name": "python",
   "nbconvert_exporter": "python",
   "pygments_lexer": "ipython3",
   "version": "3.11.5"
  },
  "widgets": {
   "application/vnd.jupyter.widget-state+json": {
    "state": {
     "1db001cef3f049c0a1d9d063cf85b9e3": {
      "model_module": "@jupyter-widgets/base",
      "model_module_version": "1.2.0",
      "model_name": "LayoutModel",
      "state": {
       "_model_module": "@jupyter-widgets/base",
       "_model_module_version": "1.2.0",
       "_model_name": "LayoutModel",
       "_view_count": null,
       "_view_module": "@jupyter-widgets/base",
       "_view_module_version": "1.2.0",
       "_view_name": "LayoutView",
       "align_content": null,
       "align_items": null,
       "align_self": null,
       "border": null,
       "bottom": null,
       "display": null,
       "flex": null,
       "flex_flow": null,
       "grid_area": null,
       "grid_auto_columns": null,
       "grid_auto_flow": null,
       "grid_auto_rows": null,
       "grid_column": null,
       "grid_gap": null,
       "grid_row": null,
       "grid_template_areas": null,
       "grid_template_columns": null,
       "grid_template_rows": null,
       "height": null,
       "justify_content": null,
       "justify_items": null,
       "left": null,
       "margin": null,
       "max_height": null,
       "max_width": null,
       "min_height": null,
       "min_width": null,
       "object_fit": null,
       "object_position": null,
       "order": null,
       "overflow": null,
       "overflow_x": null,
       "overflow_y": null,
       "padding": null,
       "right": null,
       "top": null,
       "visibility": null,
       "width": null
      }
     },
     "3391b8c211134e29bebe286c911873b5": {
      "model_module": "@jupyter-widgets/controls",
      "model_module_version": "1.5.0",
      "model_name": "ProgressStyleModel",
      "state": {
       "_model_module": "@jupyter-widgets/controls",
       "_model_module_version": "1.5.0",
       "_model_name": "ProgressStyleModel",
       "_view_count": null,
       "_view_module": "@jupyter-widgets/base",
       "_view_module_version": "1.2.0",
       "_view_name": "StyleView",
       "bar_color": null,
       "description_width": "initial"
      }
     },
     "8306d1af9ab74a5aaa80c2b6dd4c8fa9": {
      "model_module": "@jupyter-widgets/controls",
      "model_module_version": "1.5.0",
      "model_name": "DescriptionStyleModel",
      "state": {
       "_model_module": "@jupyter-widgets/controls",
       "_model_module_version": "1.5.0",
       "_model_name": "DescriptionStyleModel",
       "_view_count": null,
       "_view_module": "@jupyter-widgets/base",
       "_view_module_version": "1.2.0",
       "_view_name": "StyleView",
       "description_width": ""
      }
     },
     "a102d881e97e486cb3493135ed8e3f26": {
      "model_module": "@jupyter-widgets/controls",
      "model_module_version": "1.5.0",
      "model_name": "HBoxModel",
      "state": {
       "_dom_classes": [],
       "_model_module": "@jupyter-widgets/controls",
       "_model_module_version": "1.5.0",
       "_model_name": "HBoxModel",
       "_view_count": null,
       "_view_module": "@jupyter-widgets/controls",
       "_view_module_version": "1.5.0",
       "_view_name": "HBoxView",
       "box_style": "",
       "children": [
        "IPY_MODEL_c6cb152ec0b54a7d8369d1910c668fdb",
        "IPY_MODEL_aa939f98759741158031c97def1090b0"
       ],
       "layout": "IPY_MODEL_cb913d85510d4c46a694d569a0fed2d3"
      }
     },
     "aa939f98759741158031c97def1090b0": {
      "model_module": "@jupyter-widgets/controls",
      "model_module_version": "1.5.0",
      "model_name": "HTMLModel",
      "state": {
       "_dom_classes": [],
       "_model_module": "@jupyter-widgets/controls",
       "_model_module_version": "1.5.0",
       "_model_name": "HTMLModel",
       "_view_count": null,
       "_view_module": "@jupyter-widgets/controls",
       "_view_module_version": "1.5.0",
       "_view_name": "HTMLView",
       "description": "",
       "description_tooltip": null,
       "layout": "IPY_MODEL_e00668781e31402dae21146126ee05b5",
       "placeholder": "​",
       "style": "IPY_MODEL_8306d1af9ab74a5aaa80c2b6dd4c8fa9",
       "value": " 120/120 [00:05&lt;00:00, 22.22pipeline/s]"
      }
     },
     "c6cb152ec0b54a7d8369d1910c668fdb": {
      "model_module": "@jupyter-widgets/controls",
      "model_module_version": "1.5.0",
      "model_name": "IntProgressModel",
      "state": {
       "_dom_classes": [],
       "_model_module": "@jupyter-widgets/controls",
       "_model_module_version": "1.5.0",
       "_model_name": "IntProgressModel",
       "_view_count": null,
       "_view_module": "@jupyter-widgets/controls",
       "_view_module_version": "1.5.0",
       "_view_name": "ProgressView",
       "bar_style": "",
       "description": "Optimization Progress: 100%",
       "description_tooltip": null,
       "layout": "IPY_MODEL_1db001cef3f049c0a1d9d063cf85b9e3",
       "max": 120,
       "min": 0,
       "orientation": "horizontal",
       "style": "IPY_MODEL_3391b8c211134e29bebe286c911873b5",
       "value": 120
      }
     },
     "cb913d85510d4c46a694d569a0fed2d3": {
      "model_module": "@jupyter-widgets/base",
      "model_module_version": "1.2.0",
      "model_name": "LayoutModel",
      "state": {
       "_model_module": "@jupyter-widgets/base",
       "_model_module_version": "1.2.0",
       "_model_name": "LayoutModel",
       "_view_count": null,
       "_view_module": "@jupyter-widgets/base",
       "_view_module_version": "1.2.0",
       "_view_name": "LayoutView",
       "align_content": null,
       "align_items": null,
       "align_self": null,
       "border": null,
       "bottom": null,
       "display": null,
       "flex": null,
       "flex_flow": null,
       "grid_area": null,
       "grid_auto_columns": null,
       "grid_auto_flow": null,
       "grid_auto_rows": null,
       "grid_column": null,
       "grid_gap": null,
       "grid_row": null,
       "grid_template_areas": null,
       "grid_template_columns": null,
       "grid_template_rows": null,
       "height": null,
       "justify_content": null,
       "justify_items": null,
       "left": null,
       "margin": null,
       "max_height": null,
       "max_width": null,
       "min_height": null,
       "min_width": null,
       "object_fit": null,
       "object_position": null,
       "order": null,
       "overflow": null,
       "overflow_x": null,
       "overflow_y": null,
       "padding": null,
       "right": null,
       "top": null,
       "visibility": null,
       "width": null
      }
     },
     "e00668781e31402dae21146126ee05b5": {
      "model_module": "@jupyter-widgets/base",
      "model_module_version": "1.2.0",
      "model_name": "LayoutModel",
      "state": {
       "_model_module": "@jupyter-widgets/base",
       "_model_module_version": "1.2.0",
       "_model_name": "LayoutModel",
       "_view_count": null,
       "_view_module": "@jupyter-widgets/base",
       "_view_module_version": "1.2.0",
       "_view_name": "LayoutView",
       "align_content": null,
       "align_items": null,
       "align_self": null,
       "border": null,
       "bottom": null,
       "display": null,
       "flex": null,
       "flex_flow": null,
       "grid_area": null,
       "grid_auto_columns": null,
       "grid_auto_flow": null,
       "grid_auto_rows": null,
       "grid_column": null,
       "grid_gap": null,
       "grid_row": null,
       "grid_template_areas": null,
       "grid_template_columns": null,
       "grid_template_rows": null,
       "height": null,
       "justify_content": null,
       "justify_items": null,
       "left": null,
       "margin": null,
       "max_height": null,
       "max_width": null,
       "min_height": null,
       "min_width": null,
       "object_fit": null,
       "object_position": null,
       "order": null,
       "overflow": null,
       "overflow_x": null,
       "overflow_y": null,
       "padding": null,
       "right": null,
       "top": null,
       "visibility": null,
       "width": null
      }
     }
    },
    "version_major": 2,
    "version_minor": 0
   }
  }
 },
 "nbformat": 4,
 "nbformat_minor": 1
}
